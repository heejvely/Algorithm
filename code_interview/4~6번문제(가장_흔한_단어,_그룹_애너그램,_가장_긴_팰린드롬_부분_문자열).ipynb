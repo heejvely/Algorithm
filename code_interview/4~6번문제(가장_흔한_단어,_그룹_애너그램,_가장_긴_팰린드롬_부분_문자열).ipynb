{
  "nbformat": 4,
  "nbformat_minor": 0,
  "metadata": {
    "colab": {
      "name": "4~6번문제(가장 흔한 단어, 그룹 애너그램, 가장 긴 팰린드롬 부분 문자열).ipynb",
      "provenance": [],
      "collapsed_sections": [],
      "authorship_tag": "ABX9TyP1UxSwX31p2ugMxlaq4ILS",
      "include_colab_link": true
    },
    "kernelspec": {
      "name": "python3",
      "display_name": "Python 3"
    },
    "language_info": {
      "name": "python"
    }
  },
  "cells": [
    {
      "cell_type": "markdown",
      "metadata": {
        "id": "view-in-github",
        "colab_type": "text"
      },
      "source": [
        "<a href=\"https://colab.research.google.com/github/heejvely/Algorithm/blob/main/4~6%EB%B2%88%EB%AC%B8%EC%A0%9C(%EA%B0%80%EC%9E%A5_%ED%9D%94%ED%95%9C_%EB%8B%A8%EC%96%B4%2C_%EA%B7%B8%EB%A3%B9_%EC%95%A0%EB%84%88%EA%B7%B8%EB%9E%A8%2C_%EA%B0%80%EC%9E%A5_%EA%B8%B4_%ED%8C%B0%EB%A6%B0%EB%93%9C%EB%A1%AC_%EB%B6%80%EB%B6%84_%EB%AC%B8%EC%9E%90%EC%97%B4).ipynb\" target=\"_parent\"><img src=\"https://colab.research.google.com/assets/colab-badge.svg\" alt=\"Open In Colab\"/></a>"
      ]
    },
    {
      "cell_type": "markdown",
      "source": [
        "# 가장 흔한 단어"
      ],
      "metadata": {
        "id": "PA6D1MIkvmX7"
      }
    },
    {
      "cell_type": "code",
      "execution_count": 32,
      "metadata": {
        "colab": {
          "base_uri": "https://localhost:8080/",
          "height": 35
        },
        "id": "BscJA_CJvky7",
        "outputId": "7586deef-e49e-4334-fc3a-0680e9f993bd"
      },
      "outputs": [
        {
          "output_type": "execute_result",
          "data": {
            "application/vnd.google.colaboratory.intrinsic+json": {
              "type": "string"
            },
            "text/plain": [
              "'ball'"
            ]
          },
          "metadata": {},
          "execution_count": 32
        }
      ],
      "source": [
        "# 금지된 단어를 제외한 가장 흔하게 등장하는 단어를 출력하라. 대소문자 구분을 하지 않읗며, 구두점(마침표, 쉼표 등) 또한 무시한다.\n",
        "\n",
        "paragraph = \"Bob hit a ball, the hit BALL flew fat after it was hit.\"\n",
        "banned = ['hit']\n",
        "\n",
        "# 내 답안\n",
        "\n",
        "def count(s,b):\n",
        "  s = s.lower().split(' ')\n",
        "  dic = {}\n",
        "  for i in s:\n",
        "    i = i.replace(',','') # 구두점 제거\n",
        "    i = i.replace('.','')\n",
        "    if i in b:\n",
        "      pass\n",
        "    elif (i.isalnum() == True) and (i in dic): # 단어 카운트\n",
        "      dic[i] += 1\n",
        "    else:\n",
        "      dic[i] = 1\n",
        "\n",
        "  for i,v in dic.items():\n",
        "    if v == max(dic.values()): # 최대값 찾기\n",
        "      return i\n",
        "\n",
        "count(paragraph, banned)"
      ]
    },
    {
      "cell_type": "code",
      "source": [
        "# 답안_1 리스트 컴프리헨션, 카운트 객체 사용\n",
        "\n",
        "def mostCommonWord(paragraph, banned):\n",
        "  import collections; import re\n",
        "  words = [word for word in re.sub(r'[^\\w]',' ',paragraph).lower().split() if word not in banned]\n",
        "  counts = collections.Counter(words)\n",
        "\n",
        "# most_common - 최빈값 찾기 최빈값에서 [0]번째 인덱스의 키값 출력\n",
        "# most_common(1) -> [('ball', 2)] 리스트로 출력\n",
        "# most_common(1)[0] -> ('ball',2) 튜플값으로 출력\n",
        "\n",
        "  return counts.most_common(1)[0][0]\n",
        "\n",
        "mostCommonWord(paragraph, banned)"
      ],
      "metadata": {
        "colab": {
          "base_uri": "https://localhost:8080/",
          "height": 35
        },
        "id": "9m-PUqRZ4WRQ",
        "outputId": "ea771fdd-6b9b-4afc-90f0-6bcca90705d0"
      },
      "execution_count": 39,
      "outputs": [
        {
          "output_type": "execute_result",
          "data": {
            "application/vnd.google.colaboratory.intrinsic+json": {
              "type": "string"
            },
            "text/plain": [
              "'ball'"
            ]
          },
          "metadata": {},
          "execution_count": 39
        }
      ]
    },
    {
      "cell_type": "markdown",
      "source": [
        "# 그룹 애너그램\n",
        "\n",
        "### *애너그램이란\n",
        "- 일종의 언어유희로 문자를 재배열하는 다른 뜻을 가진 단어로 바꾸는 것을 말한다. 어구전철이라고도 부르며, 과거 유럽에서는 근대까지 이러한 언어유희가 매우 유행했다고 한다. 애너그램의 우리말 예로는, '문전박대'를 '대박전문'으로 바꿔 부르는 단어 등을 들 수 있다."
      ],
      "metadata": {
        "id": "0IGIKDZe64D0"
      }
    },
    {
      "cell_type": "code",
      "source": [
        "# 문자열 배열을 받아 애너그램 단위로 그룹핑하라\n",
        "\n",
        "word = ['eat','tea','tan','ate','nat','bat']\n",
        "\n",
        "# 답안_1 정렬하여 딕셔너리에 추가\n",
        "def groupAnagrams(strs):\n",
        "  import collections\n",
        "  anagrams = collections.defaultdict(list) # defaultdict -> 키값이 없을 경우 미리 지정해 높은 초기값 반환, 여기서는 list값 반환\n",
        "\n",
        "  for word in strs:\n",
        "    # 정렬하여 딕셔너리에 추가\n",
        "    # sorted로 정렬한 문자열을 키값으로 사용하기 위해 join으로 합침\n",
        "    # sorted(\"eat\") = ['a', 'e', 't']\n",
        "    # ''.join(sorted(\"eat\")) = ['aet']\n",
        "    anagrams[''.join(sorted(word))].append(word)\n",
        "  return list(anagrams.values())\n",
        "\n",
        "groupAnagrams(word)"
      ],
      "metadata": {
        "colab": {
          "base_uri": "https://localhost:8080/"
        },
        "id": "VbQFOGOi6k7m",
        "outputId": "1e92e551-f1bf-4f38-f8fe-ce0d40b16a80"
      },
      "execution_count": 40,
      "outputs": [
        {
          "output_type": "execute_result",
          "data": {
            "text/plain": [
              "[['eat', 'tea', 'ate'], ['tan', 'nat'], ['bat']]"
            ]
          },
          "metadata": {},
          "execution_count": 40
        }
      ]
    },
    {
      "cell_type": "code",
      "source": [
        "# 문자열 배열을 받아 애너그램 단위로 그룹핑하라\n",
        "\n",
        "word = ['eat','tea','tan','ate','nat','bat']\n",
        "\n",
        "# 답안_1 정렬하여 딕셔너리에 추가\n",
        "def groupAnagrams(strs):\n",
        "  import collections\n",
        "  anagrams = collections.defaultdict(list) # defaultdict -> 키값이 없을 경우 미리 지정해 높은 초기값 반환, 여기서는 list값 반환\n",
        "\n",
        "  for word in strs:\n",
        "    # 정렬하여 딕셔너리에 추가\n",
        "    # sorted로 정렬한 문자열을 키값으로 사용하기 위해 join으로 합침\n",
        "    # sorted(\"eat\") = ['a', 'e', 't']\n",
        "    # ''.join(sorted(\"eat\")) = ['aet']\n",
        "    anagrams[''.join(sorted(word))].append(word)\n",
        "  # dictionary 형태의 anagram 형태\n",
        "  return anagrams\n",
        "\n",
        "groupAnagrams(word)"
      ],
      "metadata": {
        "colab": {
          "base_uri": "https://localhost:8080/"
        },
        "id": "xZdPH51B9WTz",
        "outputId": "e4c7b0ac-835f-40e7-8219-7401c637204a"
      },
      "execution_count": 43,
      "outputs": [
        {
          "output_type": "execute_result",
          "data": {
            "text/plain": [
              "defaultdict(list,\n",
              "            {'abt': ['bat'],\n",
              "             'aet': ['eat', 'tea', 'ate'],\n",
              "             'ant': ['tan', 'nat']})"
            ]
          },
          "metadata": {},
          "execution_count": 43
        }
      ]
    },
    {
      "cell_type": "markdown",
      "source": [
        "# 가장 긴 팰린드롬 부분 문자열"
      ],
      "metadata": {
        "id": "8bts29X1-U8C"
      }
    },
    {
      "cell_type": "code",
      "source": [
        "# 가장 긴 팰린드롬 부분 문자열을 출력하라\n",
        "\n",
        "a = 'babad'\n",
        "b = 'cbbd'\n",
        "\n",
        "# 답안_1 중앙을 중심으로 확장하는 풀이\n",
        "\n",
        "def longestPalindrome(s):\n",
        "  # 팰린드롬 판별 및 투 포인터 확장\n",
        "  def expand(left=int, right=int):\n",
        "    while left >=0 and right < len(s) and s[left] == s[right]:\n",
        "      left -= 1\n",
        "      right += 1\n",
        "    return s[left +1 : right]\n",
        "\n",
        "  # 해당 사항이 없을 때 빠르게 리턴\n",
        "  if len(s) <2 or s == s[::-1]:\n",
        "    return s\n",
        "  result = ''\n",
        "\n",
        "  # 슬라이딩 윈도우 우측으로 이동\n",
        "  for i in range(len(s) -1):\n",
        "    result = max(result, expand(i, i+1),\n",
        "                 expand(i, i+2),\n",
        "                 key = len)\n",
        "  return result\n",
        "\n",
        "longestPalindrome(a)"
      ],
      "metadata": {
        "colab": {
          "base_uri": "https://localhost:8080/",
          "height": 35
        },
        "id": "4VpQFH8K-kBx",
        "outputId": "548fbdc6-a55d-4e97-d3c8-05d1852a5169"
      },
      "execution_count": 46,
      "outputs": [
        {
          "output_type": "execute_result",
          "data": {
            "application/vnd.google.colaboratory.intrinsic+json": {
              "type": "string"
            },
            "text/plain": [
              "'bab'"
            ]
          },
          "metadata": {},
          "execution_count": 46
        }
      ]
    }
  ]
}
