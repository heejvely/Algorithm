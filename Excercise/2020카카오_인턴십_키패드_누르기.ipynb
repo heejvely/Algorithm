{
  "nbformat": 4,
  "nbformat_minor": 0,
  "metadata": {
    "colab": {
      "name": "2020카카오 인턴십 키패드 누르기.ipynb",
      "provenance": [],
      "authorship_tag": "ABX9TyOdBHRc3WV1HMvbdmb6qILd",
      "include_colab_link": true
    },
    "kernelspec": {
      "name": "python3",
      "display_name": "Python 3"
    },
    "language_info": {
      "name": "python"
    }
  },
  "cells": [
    {
      "cell_type": "markdown",
      "metadata": {
        "id": "view-in-github",
        "colab_type": "text"
      },
      "source": [
        "<a href=\"https://colab.research.google.com/github/heejvely/Algorithm/blob/main/2020%EC%B9%B4%EC%B9%B4%EC%98%A4_%EC%9D%B8%ED%84%B4%EC%8B%AD_%ED%82%A4%ED%8C%A8%EB%93%9C_%EB%88%84%EB%A5%B4%EA%B8%B0.ipynb\" target=\"_parent\"><img src=\"https://colab.research.google.com/assets/colab-badge.svg\" alt=\"Open In Colab\"/></a>"
      ]
    },
    {
      "cell_type": "markdown",
      "source": [
        "문제 설명\n",
        "스마트폰 전화 키패드의 각 칸에 다음과 같이 숫자들이 적혀 있습니다.\n",
        "\n",
        "kakao_phone1.png\n",
        "\n",
        "이 전화 키패드에서 왼손과 오른손의 엄지손가락만을 이용해서 숫자만을 입력하려고 합니다.\n",
        "맨 처음 왼손 엄지손가락은 * 키패드에 오른손 엄지손가락은 # 키패드 위치에서 시작하며, 엄지손가락을 사용하는 규칙은 다음과 같습니다.\n",
        "\n",
        "1. 엄지손가락은 상하좌우 4가지 방향으로만 이동할 수 있으며 키패드 이동 한 칸은 거리로 1에 해당합니다.\n",
        "2. 왼쪽 열의 3개의 숫자 1, 4, 7을 입력할 때는 왼손 엄지손가락을 사용합니다.\n",
        "3. 오른쪽 열의 3개의 숫자 3, 6, 9를 입력할 때는 오른손 엄지손가락을 사용합니다.\n",
        "4. 가운데 열의 4개의 숫자 2, 5, 8, 0을 입력할 때는 두 엄지손가락의 현재 키패드의 위치에서 더 가까운 엄지손가락을 사용합니다.\n",
        "\n",
        "4-1. 만약 두 엄지손가락의 거리가 같다면, 오른손잡이는 오른손 엄지손가락, 왼손잡이는 왼손 엄지손가락을 사용합니다.\n",
        "\n",
        "순서대로 누를 번호가 담긴 배열 numbers, 왼손잡이인지 오른손잡이인 지를 나타내는 문자열 hand가 매개변수로 주어질 때, 각 번호를 누른 엄지손가락이 왼손인 지 오른손인 지를 나타내는 연속된 문자열 형태로 return 하도록 solution 함수를 완성해주세요.\n",
        "\n",
        "[제한사항]\n",
        "- numbers 배열의 크기는 1 이상 1,000 이하입니다.\n",
        "- numbers 배열 원소의 값은 0 이상 9 이하인 정수입니다.\n",
        "- hand는 \"left\" 또는 \"right\" 입니다.\n",
        "- \"left\"는 왼손잡이, \"right\"는 오른손잡이를 의미합니다.\n",
        "- 왼손 엄지손가락을 사용한 경우는 L, 오른손 엄지손가락을 사용한 경우는 R을 순서대로 이어붙여 문자열 형태로 return 해주세요.\n",
        "\n",
        "[출력 예시]\n",
        "numbers\thand\tresult\n",
        "\n",
        "- [1, 3, 4, 5, 8, 2, 1, 4, 5, 9, 5]\t\"right\"\t\"LRLLLRLLRRL\"\n",
        "- [7, 0, 8, 2, 8, 3, 1, 5, 7, 6, 2]\t\"left\"\t\"LRLLRRLLLRR\"\n",
        "- [1, 2, 3, 4, 5, 6, 7, 8, 9, 0]\t\"right\"\t\"LLRLLRLLRL\""
      ],
      "metadata": {
        "id": "TI4U5amIAWjg"
      }
    },
    {
      "cell_type": "markdown",
      "source": [
        "코드 출처: https://somjang.tistory.com/entry/Programmers-2020-%EC%B9%B4%EC%B9%B4%EC%98%A4-%EC%9D%B8%ED%84%B4%EC%8B%AD-%ED%82%A4%ED%8C%A8%EB%93%9C-%EB%88%84%EB%A5%B4%EA%B8%B0-Python"
      ],
      "metadata": {
        "id": "CAvraxNvA-Gq"
      }
    },
    {
      "cell_type": "code",
      "execution_count": 2,
      "metadata": {
        "colab": {
          "base_uri": "https://localhost:8080/"
        },
        "id": "tRnzEzDTAKq4",
        "outputId": "23c0ff06-eecf-49ed-c8d4-c39669787a7b"
      },
      "outputs": [
        {
          "output_type": "stream",
          "name": "stdout",
          "text": [
            "LRLLLRLLRRL\n",
            "LRLLRRLLLRR\n",
            "LLRLLRLLRL\n"
          ]
        }
      ],
      "source": [
        "def get_distance(keypad, finger_position, next_number):\n",
        "    next_number_position = keypad[next_number]\n",
        "    \n",
        "    distance = abs(finger_position[0] - next_number_position[0]) + abs(finger_position[1] - next_number_position[1])\n",
        "    \n",
        "    return distance\n",
        "\n",
        "def solution(numbers, hand):\n",
        "    result = ''\n",
        "    \n",
        "    keypad = {\n",
        "        1: [0,0], 2:[0,1], 3:[0,2],\n",
        "        4: [1,0], 5:[1,1], 6:[1,2],\n",
        "        7: [2,0], 8:[2,1], 9:[2,2],\n",
        "        0: [3,1]\n",
        "    }\n",
        "    \n",
        "    left_finger_numbers = [1, 4, 7]\n",
        "    right_finger_numbers = [3, 6, 9]\n",
        "    center_finger_numbers = [2, 5, 8, 0]\n",
        "    \n",
        "    left_finger_position = [3, 0]\n",
        "    right_finger_position = [3, 2]\n",
        "    \n",
        "    for number in numbers:\n",
        "        if number in left_finger_numbers:\n",
        "            result += 'L'\n",
        "            left_finger_position = keypad[number]\n",
        "        elif number in right_finger_numbers:\n",
        "            result += 'R'\n",
        "            right_finger_position = keypad[number]\n",
        "            \n",
        "        else:\n",
        "            left_finger_distance = get_distance(keypad, left_finger_position, number)\n",
        "            \n",
        "            right_finger_distance = get_distance(keypad, right_finger_position, number)\n",
        "            \n",
        "            if left_finger_distance > right_finger_distance:\n",
        "                result += 'R'\n",
        "                right_finger_position = keypad[number]\n",
        "            elif left_finger_distance < right_finger_distance:\n",
        "                result += 'L'\n",
        "                left_finger_position = keypad[number]\n",
        "            elif left_finger_distance == right_finger_distance:\n",
        "                result += hand[0].upper()\n",
        "                if hand =='right':\n",
        "                    right_finger_position = keypad[number]\n",
        "                elif hand =='left':\n",
        "                    left_finger_position = keypad[number]\n",
        "    return result\n",
        "\n",
        "first = [1, 3, 4, 5, 8, 2, 1, 4, 5, 9, 5]\n",
        "second = [7, 0, 8, 2, 8, 3, 1, 5, 7, 6, 2]\n",
        "third = [1, 2, 3, 4, 5, 6, 7, 8, 9, 0]\n",
        "\n",
        "print(solution(first, 'right'))\n",
        "print(solution(second, 'left'))\n",
        "print(solution(third, 'right'))"
      ]
    },
    {
      "cell_type": "markdown",
      "source": [
        "코드 출처: https://programmers.co.kr/learn/courses/30/lessons/67256/solution_groups?language=python3"
      ],
      "metadata": {
        "id": "hv6advpTBLV_"
      }
    },
    {
      "cell_type": "code",
      "source": [
        "def solution(numbers, hand):\n",
        "  answer = ''\n",
        "  key_dict = {\n",
        "        1: [0,0], 2:[0,1], 3:[0,2],\n",
        "        4: [1,0], 5:[1,1], 6:[1,2],\n",
        "        7: [2,0], 8:[2,1], 9:[2,2],\n",
        "        '*': [3,0], 0:[3,1], '#': [3,2]\n",
        "    }\n",
        "\n",
        "  left = [1,4,7]\n",
        "  right = [3,6,9]\n",
        "  lhand = '*'\n",
        "  rhand = '#'\n",
        "  for i in numbers:\n",
        "    if i in left:\n",
        "      answer += 'L'\n",
        "      lhand = i\n",
        "    elif i in right:\n",
        "      answer += 'R'\n",
        "      rhand = i\n",
        "    else:\n",
        "      curpos = key_dict[i]\n",
        "      lpos = key_dict[lhand]\n",
        "      rpos = key_dict[rhand]\n",
        "      ldist = abs(curpos[0]-lpos[0]) + abs(curpos[1]-lpos[1])\n",
        "      rdist = abs(curpos[0]-rpos[0]) + abs(curpos[1]-rpos[1])\n",
        "\n",
        "      if ldist < rdist:\n",
        "        answer += 'L'\n",
        "        lhand = i\n",
        "      elif ldist > rdist:\n",
        "        answer += 'R'\n",
        "        rhand = i\n",
        "      else:\n",
        "        if hand =='left':\n",
        "          answer += 'L'\n",
        "          lhand = i\n",
        "        else:\n",
        "          answer += 'R'\n",
        "          rhand = i\n",
        "\n",
        "  return answer\n",
        "\n",
        "first = [1, 3, 4, 5, 8, 2, 1, 4, 5, 9, 5]\n",
        "second = [7, 0, 8, 2, 8, 3, 1, 5, 7, 6, 2]\n",
        "third = [1, 2, 3, 4, 5, 6, 7, 8, 9, 0]\n",
        "\n",
        "print(solution(first, 'right'))\n",
        "print(solution(second, 'left'))\n",
        "print(solution(third, 'right'))"
      ],
      "metadata": {
        "colab": {
          "base_uri": "https://localhost:8080/"
        },
        "id": "CNN-M8mrBAkT",
        "outputId": "5b44a779-c887-4f6d-e4c6-4aea5314195b"
      },
      "execution_count": 6,
      "outputs": [
        {
          "output_type": "stream",
          "name": "stdout",
          "text": [
            "LRLLLRLLRRL\n",
            "LRLLRRLLLRR\n",
            "LLRLLRLLRL\n"
          ]
        }
      ]
    }
  ]
}
