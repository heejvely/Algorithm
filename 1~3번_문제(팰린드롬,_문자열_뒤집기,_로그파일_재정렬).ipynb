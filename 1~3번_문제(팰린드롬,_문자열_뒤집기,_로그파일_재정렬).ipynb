{
  "nbformat": 4,
  "nbformat_minor": 0,
  "metadata": {
    "colab": {
      "name": "1~3번 문제(팰린드롬, 문자열 뒤집기, 로그파일 재정렬).ipynb",
      "provenance": [],
      "authorship_tag": "ABX9TyMteu6nXwNyRbPMf5Fasma6",
      "include_colab_link": true
    },
    "kernelspec": {
      "name": "python3",
      "display_name": "Python 3"
    },
    "language_info": {
      "name": "python"
    }
  },
  "cells": [
    {
      "cell_type": "markdown",
      "metadata": {
        "id": "view-in-github",
        "colab_type": "text"
      },
      "source": [
        "<a href=\"https://colab.research.google.com/github/heejvely/Algorithm/blob/main/1~3%EB%B2%88_%EB%AC%B8%EC%A0%9C(%ED%8C%B0%EB%A6%B0%EB%93%9C%EB%A1%AC%2C_%EB%AC%B8%EC%9E%90%EC%97%B4_%EB%92%A4%EC%A7%91%EA%B8%B0%2C_%EB%A1%9C%EA%B7%B8%ED%8C%8C%EC%9D%BC_%EC%9E%AC%EC%A0%95%EB%A0%AC).ipynb\" target=\"_parent\"><img src=\"https://colab.research.google.com/assets/colab-badge.svg\" alt=\"Open In Colab\"/></a>"
      ]
    },
    {
      "cell_type": "markdown",
      "source": [
        "# 유효한 팰린드롬\n",
        "\n",
        "## * '팰린드롬'이란\n",
        "- 앞뒤가 똑같은 단어나 문장으로, 뒤집어도 같은 말이 되는 단어 또는 문장을 팰린드롬(Palindrome)이라고 한다. 우리말로는 '회문'이라 부르며, 문장 중에서는 대표적으로 '소주 만 병만 주소' 같은 문장이 이에 해당한다. 이 문장은 뒤집어도 '소주 만 병만 주소'가 된다.\n",
        "- 이러한 팰린드롬의 특징을 응용하면 여러 가지 재밌는 문제들을 많이 만들어낼 수 있기 때문에 코딩 테스트에 매우 자주 출제되는 주제기도 하다."
      ],
      "metadata": {
        "id": "Oxj_9x5Ye6Og"
      }
    },
    {
      "cell_type": "code",
      "execution_count": 7,
      "metadata": {
        "colab": {
          "base_uri": "https://localhost:8080/"
        },
        "id": "seEHv8dNez4i",
        "outputId": "14c78d0a-8d65-4273-ce96-f441264fae49"
      },
      "outputs": [
        {
          "output_type": "stream",
          "name": "stdout",
          "text": [
            "['a', 'm', 'a', 'n', 'a', 'p', 'l', 'a', 'n', 'a', 'c', 'a', 'n', 'a', 'l', 'p', 'a', 'n', 'a', 'm', 'a']\n"
          ]
        },
        {
          "output_type": "execute_result",
          "data": {
            "text/plain": [
              "True"
            ]
          },
          "metadata": {},
          "execution_count": 7
        }
      ],
      "source": [
        "# 주어진 문자열이 팰린드롬인지 확인하라. 대소문자를 구문하지 않으며, 영문자와 숫자만을 대상으로 한다.\n",
        "\n",
        "text = \"A man, a plan, a canal: Panama\"\n",
        "\n",
        "def isPalindrome(s):\n",
        "  strs = []\n",
        "  for char in s:\n",
        "    if char.isalnum(): # isalnum 영문자, 숫자 여부 판별하는 함수\n",
        "      strs.append(char.lower()) # 소문자로 변환하여 리스트에 포함하기\n",
        "\n",
        "  print(strs)\n",
        "  # 팰린드롬 여부 판별\n",
        "  while len(strs) > 1:\n",
        "    if strs.pop(0) != strs.pop(): # 0번째 인덱스와 마지막 인덱스가 같지 않으면 False 리턴\n",
        "      return False\n",
        "  \n",
        "  return True\n",
        "\n",
        "isPalindrome(text)"
      ]
    },
    {
      "cell_type": "code",
      "source": [
        "# 데크 자료형을 이용한 최적화\n",
        "\n",
        "def isPaindrome(s):\n",
        "  strs: Deque = collections.deque()\n",
        "\n",
        "  for char in s:\n",
        "    if char.isalnum():\n",
        "      strs.append(char.lower())\n",
        "  \n",
        "  # 팰린드롬 여부 판별\n",
        "  while len(strs) > 1:\n",
        "    if strs.popleft() != strs.pop():\n",
        "      return False\n",
        "\n",
        "  return True\n",
        "\n",
        "isPalindrome(text)"
      ],
      "metadata": {
        "colab": {
          "base_uri": "https://localhost:8080/"
        },
        "id": "Fqxpj-icgTmk",
        "outputId": "b7aadfb8-6678-41a2-95e4-29b749c356ea"
      },
      "execution_count": 9,
      "outputs": [
        {
          "output_type": "stream",
          "name": "stdout",
          "text": [
            "['a', 'm', 'a', 'n', 'a', 'p', 'l', 'a', 'n', 'a', 'c', 'a', 'n', 'a', 'l', 'p', 'a', 'n', 'a', 'm', 'a']\n"
          ]
        },
        {
          "output_type": "execute_result",
          "data": {
            "text/plain": [
              "True"
            ]
          },
          "metadata": {},
          "execution_count": 9
        }
      ]
    },
    {
      "cell_type": "code",
      "source": [
        "# 슬라이싱 사용\n",
        "import re\n",
        "\n",
        "def isPalindrome(s):\n",
        "  s = s.lower()\n",
        "\n",
        "  # 정규식으로 불필요한 문자 필터링\n",
        "  s = re.sub('[^a-z0-9]','',s)\n",
        "\n",
        "  return s == s[::-1]\n",
        "\n",
        "isPalindrome(text)"
      ],
      "metadata": {
        "colab": {
          "base_uri": "https://localhost:8080/"
        },
        "id": "mYQpzHsqh9qx",
        "outputId": "7d64c0bc-238d-4caa-ac44-9f55d28fbf03"
      },
      "execution_count": 11,
      "outputs": [
        {
          "output_type": "execute_result",
          "data": {
            "text/plain": [
              "True"
            ]
          },
          "metadata": {},
          "execution_count": 11
        }
      ]
    },
    {
      "cell_type": "markdown",
      "source": [
        "# 문자열 뒤집기"
      ],
      "metadata": {
        "id": "CmNgG1ccmHaX"
      }
    },
    {
      "cell_type": "code",
      "source": [
        "# 문자열을 뒤집는 함수를 작성하라. 입력값은 문자 배열이며, 리턴없이 리스트를 직접 조작하라.\n",
        "# 내 풀이\n",
        "def rever(s):\n",
        "  text = []\n",
        "  for i in s[::-1]:\n",
        "    text.append(i)\n",
        "\n",
        "  return text # return 쓰지 말자..\n",
        "\n",
        "rever('hello')"
      ],
      "metadata": {
        "colab": {
          "base_uri": "https://localhost:8080/"
        },
        "id": "hXgKf9VVigGl",
        "outputId": "03d04ae9-1727-4724-ffce-006329f56c3f"
      },
      "execution_count": 12,
      "outputs": [
        {
          "output_type": "execute_result",
          "data": {
            "text/plain": [
              "['o', 'l', 'l', 'e', 'h']"
            ]
          },
          "metadata": {},
          "execution_count": 12
        }
      ]
    },
    {
      "cell_type": "code",
      "source": [
        "# 답안_1 투 포인터를 이용한 스왑\n",
        "\n",
        "class RS():\n",
        "  def reverseString(self, str):\n",
        "    s = list(str)\n",
        "    left, right = 0, len(s) - 1\n",
        "    while left < right:\n",
        "      s[left], s[right] = s[right], s[left]\n",
        "      left += 1\n",
        "      right -= 1\n",
        "\n",
        "obj = RS()\n",
        "obj.reverseString('hello')"
      ],
      "metadata": {
        "id": "BCwJGVOMm2N9"
      },
      "execution_count": 23,
      "outputs": []
    },
    {
      "cell_type": "code",
      "source": [
        "# 답안_2 파이썬다운 방식\n",
        "\n",
        "class RS():\n",
        "  def reverseString(self,s):\n",
        "    s.reverse()\n",
        "\n",
        "obj = RS()\n",
        "obj.reverseString(['hello'])"
      ],
      "metadata": {
        "id": "LPKjvkWBrmm8"
      },
      "execution_count": 24,
      "outputs": []
    },
    {
      "cell_type": "markdown",
      "source": [
        "# 로그 파일 재정렬\n",
        "\n",
        "- 로그를 재정렬하라. 기준은 다음과 같다.\n",
        "1. 로그의 가장 앞 부분은 식별자다.\n",
        "2. 문자로 구성된 로그가 숫자 로그보다 앞에 온다.\n",
        "3. 식별자는 순서에 영향을 끼치지 않지만, 문자가 동일할 경우 식별자 순으로 한다.\n",
        "4. 숫자로그는 입력 순서대로 한다."
      ],
      "metadata": {
        "id": "4VAc6xJ9xXkv"
      }
    },
    {
      "cell_type": "code",
      "source": [
        "# 입력\n",
        "logs = [\"dig1 8 1 5 1\",\"let1 art can\",\"dig2 3 6\",\"let2 own kit dig\",\"let3 art zero\"]\n",
        "\n",
        "# 출력\n",
        "[\"let1 art can\",\"let3 art zero\",\"let2 own kit dig\",\"dig1 8 1 5 1\",\"dig2 3 6\"]"
      ],
      "metadata": {
        "colab": {
          "base_uri": "https://localhost:8080/"
        },
        "id": "4CV9Rp0PshZ4",
        "outputId": "6450d195-cdcc-4352-c5cb-891ce2c7aeff"
      },
      "execution_count": 30,
      "outputs": [
        {
          "output_type": "execute_result",
          "data": {
            "text/plain": [
              "['let1 art can',\n",
              " 'let3 art zero',\n",
              " 'let2 own kit dig',\n",
              " 'dig1 8 1 5 1',\n",
              " 'dig2 3 6']"
            ]
          },
          "metadata": {},
          "execution_count": 30
        }
      ]
    },
    {
      "cell_type": "code",
      "source": [
        "# 답안_1 람다와 + 연산자를 이용\n",
        "\n",
        "class Solution():\n",
        "  def reorderLogFiles(self, logs):\n",
        "    letters, digits = [], []\n",
        "    for log in logs:\n",
        "      if log.split()[1].isdigit():\n",
        "        digits.append(log)\n",
        "      else:\n",
        "        letters.append(log)\n",
        "\n",
        "    # 2개의 키를 람다 표현식으로 정렬\n",
        "    letters.sort(key=lambda x: (x.split()[1:], x.split()[0]))\n",
        "    return letters + digits\n",
        "\n",
        "ob = Solution()\n",
        "ob.reorderLogFiles(logs)"
      ],
      "metadata": {
        "colab": {
          "base_uri": "https://localhost:8080/"
        },
        "id": "Y384ZfBVy5SA",
        "outputId": "c3114d83-cca9-4a6d-967b-5894043e7f67"
      },
      "execution_count": 31,
      "outputs": [
        {
          "output_type": "execute_result",
          "data": {
            "text/plain": [
              "['let1 art can',\n",
              " 'let3 art zero',\n",
              " 'let2 own kit dig',\n",
              " 'dig1 8 1 5 1',\n",
              " 'dig2 3 6']"
            ]
          },
          "metadata": {},
          "execution_count": 31
        }
      ]
    }
  ]
}